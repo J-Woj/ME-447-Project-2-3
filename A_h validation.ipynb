{
 "cells": [
  {
   "cell_type": "code",
   "execution_count": 51,
   "metadata": {},
   "outputs": [
    {
     "name": "stdout",
     "output_type": "stream",
     "text": [
      "[[10000. 11000. 12000.]\n",
      " [13000. 14000. 15000.]\n",
      " [16000. 17000. 18000.]]\n",
      "[[[1.0e+01 1.0e+02 1.0e+03 1.0e+04 1.0e+05 0.0e+00]\n",
      "  [1.1e+01 1.1e+02 1.1e+03 1.1e+04 1.1e+06 0.0e+00]\n",
      "  [1.2e+01 1.2e+02 1.2e+03 1.2e+04 1.2e+06 0.0e+00]]\n",
      "\n",
      " [[1.3e+01 1.3e+02 1.3e+03 1.3e+04 1.3e+06 0.0e+00]\n",
      "  [1.4e+01 1.4e+02 1.4e+03 1.4e+04 1.4e+06 0.0e+00]\n",
      "  [1.5e+01 1.5e+02 1.5e+03 1.5e+04 1.5e+06 0.0e+00]]\n",
      "\n",
      " [[1.6e+01 1.6e+02 1.6e+03 1.6e+04 1.6e+06 0.0e+00]\n",
      "  [1.7e+01 1.7e+02 1.7e+03 1.7e+04 1.7e+06 0.0e+00]\n",
      "  [1.8e+01 1.8e+02 1.8e+03 1.8e+04 1.8e+06 0.0e+00]]]\n",
      "0\n",
      "hello\n",
      "1\n",
      "Goodbye\n",
      "2\n",
      "Goodbye\n",
      "3\n",
      "Goodbye\n",
      "4\n",
      "Goodbye\n",
      "5\n",
      "yes?\n",
      "[[ 50000. 550000. 600000.]\n",
      " [650000. 700000. 750000.]\n",
      " [800000. 850000. 900000.]]\n"
     ]
    }
   ],
   "source": [
    "import numpy as np\n",
    "\n",
    "def A_h(func, nodes):\n",
    "    temp = pad_along_axis(func,nodes,axis = 2)\n",
    "    print(temp)\n",
    "    for i in range(nodes):\n",
    "        print(i)\n",
    "        if i == 0:\n",
    "            print(\"hello\")\n",
    "            temp[:,:,i] = func[:,:,i] / 2\n",
    "        \n",
    "        elif i > 0 and i < nodes-1:\n",
    "            print(\"Goodbye\")\n",
    "            temp[:,:,i] = (func[:,:,i] + func[:,:,i-1]) / 2\n",
    "        \n",
    "        elif i == nodes-1:\n",
    "            print(\"yes?\")\n",
    "            temp[:,:,i] = func[:,:,i-1]/2 \n",
    "            \n",
    "    return(temp)\n",
    "    \n",
    "def pad_along_axis(array: np.ndarray, target_length: int, axis: int = 0):\n",
    "    pad_size = target_length - array.shape[axis]\n",
    "    if pad_size <= 0:\n",
    "        return array\n",
    "    npad = [(0, 0)] * array.ndim\n",
    "    npad[axis] = (0, pad_size)\n",
    "    return np.pad(array, pad_width=npad, mode='constant', constant_values=0)\n",
    "\n",
    "result = np.zeros((3, 3, 5))\n",
    "   \n",
    "result[:,:,0] = np.array(([[10, 11, 12], [13, 14, 15], [16, 17, 18]]))\n",
    "result[:,:,1] = np.array(([[100, 110, 120], [130, 140, 150], [160, 170, 180]]))\n",
    "result[:,:,2] = np.array(([[1000, 1100, 1200], [1300, 1400, 1500], [1600, 1700, 1800]]))\n",
    "result[:,:,3] = np.array(([[10000, 11000, 12000], [13000, 14000, 15000], [16000, 17000, 18000]]))\n",
    "result[:,:,4] = np.array(([[100000, 1100000, 1200000], [1300000, 1400000, 1500000], [1600000, 1700000, 1800000]]))\n",
    "    \n",
    "\n",
    "print(result[:,:,3])\n",
    "\n",
    "abba = A_h(result, 6)\n",
    "print(abba[:,:,5])\n"
   ]
  },
  {
   "cell_type": "code",
   "execution_count": 60,
   "metadata": {},
   "outputs": [
    {
     "name": "stdout",
     "output_type": "stream",
     "text": [
      "[[[5.000e+00 5.500e+01 5.500e+02 5.500e+03 5.500e+04 5.000e+04]\n",
      "  [5.500e+00 6.050e+01 6.050e+02 6.050e+03 5.555e+05 5.500e+05]\n",
      "  [6.000e+00 6.600e+01 6.600e+02 6.600e+03 6.060e+05 6.000e+05]]\n",
      "\n",
      " [[6.500e+00 7.150e+01 7.150e+02 7.150e+03 6.565e+05 6.500e+05]\n",
      "  [7.000e+00 7.700e+01 7.700e+02 7.700e+03 7.070e+05 7.000e+05]\n",
      "  [7.500e+00 8.250e+01 8.250e+02 8.250e+03 7.575e+05 7.500e+05]]\n",
      "\n",
      " [[8.000e+00 8.800e+01 8.800e+02 8.800e+03 8.080e+05 8.000e+05]\n",
      "  [8.500e+00 9.350e+01 9.350e+02 9.350e+03 8.585e+05 8.500e+05]\n",
      "  [9.000e+00 9.900e+01 9.900e+02 9.900e+03 9.090e+05 9.000e+05]]]\n"
     ]
    },
    {
     "ename": "IndexError",
     "evalue": "index 6 is out of bounds for axis 2 with size 6",
     "output_type": "error",
     "traceback": [
      "\u001b[0;31m---------------------------------------------------------------------------\u001b[0m",
      "\u001b[0;31mIndexError\u001b[0m                                Traceback (most recent call last)",
      "\u001b[0;32m<ipython-input-60-5c905de04e35>\u001b[0m in \u001b[0;36m<module>\u001b[0;34m\u001b[0m\n\u001b[1;32m      1\u001b[0m \u001b[0mprint\u001b[0m\u001b[0;34m(\u001b[0m\u001b[0mabba\u001b[0m\u001b[0;34m)\u001b[0m\u001b[0;34m\u001b[0m\u001b[0;34m\u001b[0m\u001b[0m\n\u001b[1;32m      2\u001b[0m \u001b[0;34m\u001b[0m\u001b[0m\n\u001b[0;32m----> 3\u001b[0;31m \u001b[0mprint\u001b[0m\u001b[0;34m(\u001b[0m\u001b[0mabba\u001b[0m\u001b[0;34m[\u001b[0m\u001b[0;34m:\u001b[0m\u001b[0;34m,\u001b[0m\u001b[0;34m:\u001b[0m\u001b[0;34m,\u001b[0m\u001b[0;36m6\u001b[0m\u001b[0;34m]\u001b[0m\u001b[0;34m)\u001b[0m\u001b[0;34m\u001b[0m\u001b[0;34m\u001b[0m\u001b[0m\n\u001b[0m",
      "\u001b[0;31mIndexError\u001b[0m: index 6 is out of bounds for axis 2 with size 6"
     ]
    }
   ],
   "source": [
    "print(abba)\n",
    "\n",
    "print(abba[:,:,6])"
   ]
  },
  {
   "cell_type": "markdown",
   "metadata": {},
   "source": [
    "###### for x in range(6):\n",
    "  print(x) \n"
   ]
  },
  {
   "cell_type": "code",
   "execution_count": null,
   "metadata": {},
   "outputs": [],
   "source": []
  }
 ],
 "metadata": {
  "kernelspec": {
   "display_name": "Python 3",
   "language": "python",
   "name": "python3"
  },
  "language_info": {
   "codemirror_mode": {
    "name": "ipython",
    "version": 3
   },
   "file_extension": ".py",
   "mimetype": "text/x-python",
   "name": "python",
   "nbconvert_exporter": "python",
   "pygments_lexer": "ipython3",
   "version": "3.8.10"
  }
 },
 "nbformat": 4,
 "nbformat_minor": 4
}
